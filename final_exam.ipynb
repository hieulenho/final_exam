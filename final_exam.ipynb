{
 "cells": [
  {
   "cell_type": "markdown",
   "id": "9aa9d526",
   "metadata": {},
   "source": [
    "# FINAL_EXAM "
   ]
  },
  {
   "cell_type": "markdown",
   "id": "6602dcf8",
   "metadata": {},
   "source": [
    "### ***Phân tích biến động giá cổ phiếu (ADBE)***"
   ]
  },
  {
   "cell_type": "markdown",
   "id": "86fcd069",
   "metadata": {},
   "source": [
    "## **I.** Thu thập và khái quát về cổ phiếu ADBE của tập đoàn Adobe Inc:"
   ]
  },
  {
   "cell_type": "markdown",
   "id": "864d6b7c",
   "metadata": {},
   "source": [
    "### **1.1.** Khái quát về ADBE:\n",
    " Cổ phiếu ADBE đại diện cho Adobe Inc., một công ty phần mềm hàng đầu của Mỹ, nổi tiếng với các sản phẩm như Photoshop, Illustrator, Acrobat và Adobe Creative Cloud. Công ty thuộc nhóm công nghệ lớn (Big Tech) và niêm yết trên sàn NASDAQ. ADBE được đánh giá cao nhờ mô hình kinh doanh thuê bao phần mềm và tăng trưởng doanh thu ổn định.\n",
    " ### **1.2.** Thu thập dữ liệu giá cổ phiếu:\n",
    " Ta sẽ tải dữ liệu của cổ phiếu ADBE từ Yahoo Finance về (thư viện yfinance)."
   ]
  },
  {
   "cell_type": "code",
   "execution_count": 18,
   "id": "9a2d5587",
   "metadata": {},
   "outputs": [
    {
     "data": {
      "text/html": [
       "<div>\n",
       "<style scoped>\n",
       "    .dataframe tbody tr th:only-of-type {\n",
       "        vertical-align: middle;\n",
       "    }\n",
       "\n",
       "    .dataframe tbody tr th {\n",
       "        vertical-align: top;\n",
       "    }\n",
       "\n",
       "    .dataframe thead th {\n",
       "        text-align: right;\n",
       "    }\n",
       "</style>\n",
       "<table border=\"1\" class=\"dataframe\">\n",
       "  <thead>\n",
       "    <tr style=\"text-align: right;\">\n",
       "      <th></th>\n",
       "      <th>Date</th>\n",
       "      <th>Open</th>\n",
       "      <th>High</th>\n",
       "      <th>Low</th>\n",
       "      <th>Close</th>\n",
       "      <th>Volume</th>\n",
       "      <th>Dividends</th>\n",
       "      <th>Stock Splits</th>\n",
       "    </tr>\n",
       "  </thead>\n",
       "  <tbody>\n",
       "    <tr>\n",
       "      <th>0</th>\n",
       "      <td>2023-06-20 00:00:00-04:00</td>\n",
       "      <td>485.630005</td>\n",
       "      <td>492.690002</td>\n",
       "      <td>480.000000</td>\n",
       "      <td>485.859985</td>\n",
       "      <td>5331200</td>\n",
       "      <td>0.0</td>\n",
       "      <td>0.0</td>\n",
       "    </tr>\n",
       "    <tr>\n",
       "      <th>1</th>\n",
       "      <td>2023-06-21 00:00:00-04:00</td>\n",
       "      <td>492.000000</td>\n",
       "      <td>495.549988</td>\n",
       "      <td>475.309998</td>\n",
       "      <td>477.480011</td>\n",
       "      <td>5258700</td>\n",
       "      <td>0.0</td>\n",
       "      <td>0.0</td>\n",
       "    </tr>\n",
       "    <tr>\n",
       "      <th>2</th>\n",
       "      <td>2023-06-22 00:00:00-04:00</td>\n",
       "      <td>474.119995</td>\n",
       "      <td>481.000000</td>\n",
       "      <td>473.019989</td>\n",
       "      <td>477.579987</td>\n",
       "      <td>3601400</td>\n",
       "      <td>0.0</td>\n",
       "      <td>0.0</td>\n",
       "    </tr>\n",
       "    <tr>\n",
       "      <th>3</th>\n",
       "      <td>2023-06-23 00:00:00-04:00</td>\n",
       "      <td>472.950012</td>\n",
       "      <td>487.329987</td>\n",
       "      <td>472.320007</td>\n",
       "      <td>484.720001</td>\n",
       "      <td>4450200</td>\n",
       "      <td>0.0</td>\n",
       "      <td>0.0</td>\n",
       "    </tr>\n",
       "    <tr>\n",
       "      <th>4</th>\n",
       "      <td>2023-06-26 00:00:00-04:00</td>\n",
       "      <td>483.010010</td>\n",
       "      <td>487.160004</td>\n",
       "      <td>479.049988</td>\n",
       "      <td>479.510010</td>\n",
       "      <td>3169500</td>\n",
       "      <td>0.0</td>\n",
       "      <td>0.0</td>\n",
       "    </tr>\n",
       "  </tbody>\n",
       "</table>\n",
       "</div>"
      ],
      "text/plain": [
       "                       Date        Open        High         Low       Close  \\\n",
       "0 2023-06-20 00:00:00-04:00  485.630005  492.690002  480.000000  485.859985   \n",
       "1 2023-06-21 00:00:00-04:00  492.000000  495.549988  475.309998  477.480011   \n",
       "2 2023-06-22 00:00:00-04:00  474.119995  481.000000  473.019989  477.579987   \n",
       "3 2023-06-23 00:00:00-04:00  472.950012  487.329987  472.320007  484.720001   \n",
       "4 2023-06-26 00:00:00-04:00  483.010010  487.160004  479.049988  479.510010   \n",
       "\n",
       "    Volume  Dividends  Stock Splits  \n",
       "0  5331200        0.0           0.0  \n",
       "1  5258700        0.0           0.0  \n",
       "2  3601400        0.0           0.0  \n",
       "3  4450200        0.0           0.0  \n",
       "4  3169500        0.0           0.0  "
      ]
     },
     "execution_count": 18,
     "metadata": {},
     "output_type": "execute_result"
    }
   ],
   "source": [
    "import yfinance as yf\n",
    "import pandas as pd\n",
    "import matplotlib.pyplot as plt\n",
    "import seaborn as sns\n",
    "import numpy as np\n",
    "adbe = yf.Ticker(\"ADBE\")\n",
    "data = adbe.history(period=\"2y\").reset_index()\n",
    "data['Date'] = pd.to_datetime(data['Date'])\n",
    "data.head()"
   ]
  },
  {
   "cell_type": "markdown",
   "id": "ef1f93c5",
   "metadata": {},
   "source": [
    "## **II.** Làm sạch và tiền xử lí dữ liệu:\n"
   ]
  },
  {
   "cell_type": "markdown",
   "id": "84f45b8b",
   "metadata": {},
   "source": [
    "### **1.0** Kiểm tra và xử lý giá trị thiếu (MISSING VALUES):"
   ]
  },
  {
   "cell_type": "markdown",
   "id": "4005d0be",
   "metadata": {},
   "source": [
    "Theo như Nasdaq, sàn ADBE tiến hành giao dịch vào các ngày từ thứ 2 đến thứ 6. Với những ngày nghỉ, tổng khối lượng giao dịch (Volume) sẽ bằng 0. Ta tìm và loại bỏ những ngày này."
   ]
  },
  {
   "cell_type": "code",
   "execution_count": 19,
   "id": "6acc2165",
   "metadata": {},
   "outputs": [
    {
     "data": {
      "text/html": [
       "<div>\n",
       "<style scoped>\n",
       "    .dataframe tbody tr th:only-of-type {\n",
       "        vertical-align: middle;\n",
       "    }\n",
       "\n",
       "    .dataframe tbody tr th {\n",
       "        vertical-align: top;\n",
       "    }\n",
       "\n",
       "    .dataframe thead th {\n",
       "        text-align: right;\n",
       "    }\n",
       "</style>\n",
       "<table border=\"1\" class=\"dataframe\">\n",
       "  <thead>\n",
       "    <tr style=\"text-align: right;\">\n",
       "      <th></th>\n",
       "      <th>Date</th>\n",
       "      <th>Open</th>\n",
       "      <th>High</th>\n",
       "      <th>Low</th>\n",
       "      <th>Close</th>\n",
       "      <th>Volume</th>\n",
       "      <th>Dividends</th>\n",
       "      <th>Stock Splits</th>\n",
       "    </tr>\n",
       "  </thead>\n",
       "  <tbody>\n",
       "    <tr>\n",
       "      <th>0</th>\n",
       "      <td>2023-06-20 00:00:00-04:00</td>\n",
       "      <td>485.630005</td>\n",
       "      <td>492.690002</td>\n",
       "      <td>480.000000</td>\n",
       "      <td>485.859985</td>\n",
       "      <td>5331200</td>\n",
       "      <td>0.0</td>\n",
       "      <td>0.0</td>\n",
       "    </tr>\n",
       "    <tr>\n",
       "      <th>1</th>\n",
       "      <td>2023-06-21 00:00:00-04:00</td>\n",
       "      <td>492.000000</td>\n",
       "      <td>495.549988</td>\n",
       "      <td>475.309998</td>\n",
       "      <td>477.480011</td>\n",
       "      <td>5258700</td>\n",
       "      <td>0.0</td>\n",
       "      <td>0.0</td>\n",
       "    </tr>\n",
       "    <tr>\n",
       "      <th>2</th>\n",
       "      <td>2023-06-22 00:00:00-04:00</td>\n",
       "      <td>474.119995</td>\n",
       "      <td>481.000000</td>\n",
       "      <td>473.019989</td>\n",
       "      <td>477.579987</td>\n",
       "      <td>3601400</td>\n",
       "      <td>0.0</td>\n",
       "      <td>0.0</td>\n",
       "    </tr>\n",
       "    <tr>\n",
       "      <th>3</th>\n",
       "      <td>2023-06-23 00:00:00-04:00</td>\n",
       "      <td>472.950012</td>\n",
       "      <td>487.329987</td>\n",
       "      <td>472.320007</td>\n",
       "      <td>484.720001</td>\n",
       "      <td>4450200</td>\n",
       "      <td>0.0</td>\n",
       "      <td>0.0</td>\n",
       "    </tr>\n",
       "    <tr>\n",
       "      <th>4</th>\n",
       "      <td>2023-06-26 00:00:00-04:00</td>\n",
       "      <td>483.010010</td>\n",
       "      <td>487.160004</td>\n",
       "      <td>479.049988</td>\n",
       "      <td>479.510010</td>\n",
       "      <td>3169500</td>\n",
       "      <td>0.0</td>\n",
       "      <td>0.0</td>\n",
       "    </tr>\n",
       "  </tbody>\n",
       "</table>\n",
       "</div>"
      ],
      "text/plain": [
       "                       Date        Open        High         Low       Close  \\\n",
       "0 2023-06-20 00:00:00-04:00  485.630005  492.690002  480.000000  485.859985   \n",
       "1 2023-06-21 00:00:00-04:00  492.000000  495.549988  475.309998  477.480011   \n",
       "2 2023-06-22 00:00:00-04:00  474.119995  481.000000  473.019989  477.579987   \n",
       "3 2023-06-23 00:00:00-04:00  472.950012  487.329987  472.320007  484.720001   \n",
       "4 2023-06-26 00:00:00-04:00  483.010010  487.160004  479.049988  479.510010   \n",
       "\n",
       "    Volume  Dividends  Stock Splits  \n",
       "0  5331200        0.0           0.0  \n",
       "1  5258700        0.0           0.0  \n",
       "2  3601400        0.0           0.0  \n",
       "3  4450200        0.0           0.0  \n",
       "4  3169500        0.0           0.0  "
      ]
     },
     "execution_count": 19,
     "metadata": {},
     "output_type": "execute_result"
    }
   ],
   "source": [
    "data = data.dropna()\n",
    "data.head()"
   ]
  },
  {
   "cell_type": "markdown",
   "id": "d333fb50",
   "metadata": {},
   "source": [
    "Ngoài ra, trong các phiên giao dịch của ADBE, tồn tại những phiên giao dịch nửa ngày sẽ diễn ra khi Nasdaq đóng cửa sớm lúc 13:00 chiều (ET) thường vào ngày trước hoặc sau các ngày lễ lớn. Phiên này vẫn được tính là giao dịch chính thức nhưng với khối lượng thấp hơn, nên ta sẽ loại bỏ những ngày này"
   ]
  },
  {
   "cell_type": "markdown",
   "id": "85c685b1",
   "metadata": {},
   "source": [
    "Ở đây chúng ta chỉ phân tích trong vòng 2 năm , từ đây ta có thể suy ra bảng ngày cần loại bỏ như sau:\n",
    "\n"
   ]
  },
  {
   "cell_type": "markdown",
   "id": "45cba8c8",
   "metadata": {},
   "source": [
    "#####  Danh sách:\n",
    "\n",
    "| Date       | Event                                | Close Time |\n",
    "|------------|--------------------------------------|------------|\n",
    "| 2024-07-03 | Trước ngày Quốc khánh Mỹ             | 13:00 ET   |\n",
    "| 2024-11-29 | Thứ Sáu sau Lễ Tạ ơn (Black Friday)  | 13:00 ET   |\n",
    "| 2024-12-24 | Đêm Giáng Sinh (Christmas Eve)       | 13:00 ET   |\n",
    "| 2023-07-03 | Trước ngày Quốc khánh Mỹ             | 13:00 ET   |\n",
    "| 2023-11-28 | Thứ Sáu sau Lễ Tạ ơn (Black Friday)  | 13:00 ET   |\n",
    "| 2023-12-24 | Đêm Giáng Sinh (Christmas Eve)       | 13:00 ET   |\n",
    "\n"
   ]
  },
  {
   "cell_type": "markdown",
   "id": "f693840c",
   "metadata": {},
   "source": [
    "Tiến hành loại bỏ những ngày này khỏi dữ liệu:"
   ]
  },
  {
   "cell_type": "code",
   "execution_count": 20,
   "id": "307e99c6",
   "metadata": {},
   "outputs": [
    {
     "data": {
      "text/html": [
       "<div>\n",
       "<style scoped>\n",
       "    .dataframe tbody tr th:only-of-type {\n",
       "        vertical-align: middle;\n",
       "    }\n",
       "\n",
       "    .dataframe tbody tr th {\n",
       "        vertical-align: top;\n",
       "    }\n",
       "\n",
       "    .dataframe thead th {\n",
       "        text-align: right;\n",
       "    }\n",
       "</style>\n",
       "<table border=\"1\" class=\"dataframe\">\n",
       "  <thead>\n",
       "    <tr style=\"text-align: right;\">\n",
       "      <th></th>\n",
       "      <th>Date</th>\n",
       "      <th>Open</th>\n",
       "      <th>High</th>\n",
       "      <th>Low</th>\n",
       "      <th>Close</th>\n",
       "      <th>Volume</th>\n",
       "      <th>Dividends</th>\n",
       "      <th>Stock Splits</th>\n",
       "    </tr>\n",
       "  </thead>\n",
       "  <tbody>\n",
       "    <tr>\n",
       "      <th>0</th>\n",
       "      <td>2023-06-20 00:00:00-04:00</td>\n",
       "      <td>485.630005</td>\n",
       "      <td>492.690002</td>\n",
       "      <td>480.000000</td>\n",
       "      <td>485.859985</td>\n",
       "      <td>5331200</td>\n",
       "      <td>0.0</td>\n",
       "      <td>0.0</td>\n",
       "    </tr>\n",
       "    <tr>\n",
       "      <th>1</th>\n",
       "      <td>2023-06-21 00:00:00-04:00</td>\n",
       "      <td>492.000000</td>\n",
       "      <td>495.549988</td>\n",
       "      <td>475.309998</td>\n",
       "      <td>477.480011</td>\n",
       "      <td>5258700</td>\n",
       "      <td>0.0</td>\n",
       "      <td>0.0</td>\n",
       "    </tr>\n",
       "    <tr>\n",
       "      <th>2</th>\n",
       "      <td>2023-06-22 00:00:00-04:00</td>\n",
       "      <td>474.119995</td>\n",
       "      <td>481.000000</td>\n",
       "      <td>473.019989</td>\n",
       "      <td>477.579987</td>\n",
       "      <td>3601400</td>\n",
       "      <td>0.0</td>\n",
       "      <td>0.0</td>\n",
       "    </tr>\n",
       "    <tr>\n",
       "      <th>3</th>\n",
       "      <td>2023-06-23 00:00:00-04:00</td>\n",
       "      <td>472.950012</td>\n",
       "      <td>487.329987</td>\n",
       "      <td>472.320007</td>\n",
       "      <td>484.720001</td>\n",
       "      <td>4450200</td>\n",
       "      <td>0.0</td>\n",
       "      <td>0.0</td>\n",
       "    </tr>\n",
       "    <tr>\n",
       "      <th>4</th>\n",
       "      <td>2023-06-26 00:00:00-04:00</td>\n",
       "      <td>483.010010</td>\n",
       "      <td>487.160004</td>\n",
       "      <td>479.049988</td>\n",
       "      <td>479.510010</td>\n",
       "      <td>3169500</td>\n",
       "      <td>0.0</td>\n",
       "      <td>0.0</td>\n",
       "    </tr>\n",
       "  </tbody>\n",
       "</table>\n",
       "</div>"
      ],
      "text/plain": [
       "                       Date        Open        High         Low       Close  \\\n",
       "0 2023-06-20 00:00:00-04:00  485.630005  492.690002  480.000000  485.859985   \n",
       "1 2023-06-21 00:00:00-04:00  492.000000  495.549988  475.309998  477.480011   \n",
       "2 2023-06-22 00:00:00-04:00  474.119995  481.000000  473.019989  477.579987   \n",
       "3 2023-06-23 00:00:00-04:00  472.950012  487.329987  472.320007  484.720001   \n",
       "4 2023-06-26 00:00:00-04:00  483.010010  487.160004  479.049988  479.510010   \n",
       "\n",
       "    Volume  Dividends  Stock Splits  \n",
       "0  5331200        0.0           0.0  \n",
       "1  5258700        0.0           0.0  \n",
       "2  3601400        0.0           0.0  \n",
       "3  4450200        0.0           0.0  \n",
       "4  3169500        0.0           0.0  "
      ]
     },
     "execution_count": 20,
     "metadata": {},
     "output_type": "execute_result"
    }
   ],
   "source": [
    "Close_time = [\n",
    "    \"2024-07-03\", \"2024-11-29\", \"2024-12-24\", \"2023-07-03\", \"2023-11-28\", \"2023-12-24\"\n",
    "]\n",
    "Close_time = pd.to_datetime(Close_time)\n",
    "\n",
    "data = data[~data['Date'].isin(Close_time)].copy()\n",
    "data.head()"
   ]
  },
  {
   "cell_type": "markdown",
   "id": "9a48fdfb",
   "metadata": {},
   "source": [
    "### **1.1** Định dạng cột thời gian  (Datetime Formatting):\n",
    "\n",
    "Đảm bảo cột Date là định dạng \"datetime\" để phân tích theo thời gian"
   ]
  },
  {
   "cell_type": "code",
   "execution_count": 21,
   "id": "c4dec09f",
   "metadata": {},
   "outputs": [
    {
     "data": {
      "text/html": [
       "<div>\n",
       "<style scoped>\n",
       "    .dataframe tbody tr th:only-of-type {\n",
       "        vertical-align: middle;\n",
       "    }\n",
       "\n",
       "    .dataframe tbody tr th {\n",
       "        vertical-align: top;\n",
       "    }\n",
       "\n",
       "    .dataframe thead th {\n",
       "        text-align: right;\n",
       "    }\n",
       "</style>\n",
       "<table border=\"1\" class=\"dataframe\">\n",
       "  <thead>\n",
       "    <tr style=\"text-align: right;\">\n",
       "      <th></th>\n",
       "      <th>Date</th>\n",
       "      <th>Open</th>\n",
       "      <th>High</th>\n",
       "      <th>Low</th>\n",
       "      <th>Close</th>\n",
       "      <th>Volume</th>\n",
       "      <th>Dividends</th>\n",
       "      <th>Stock Splits</th>\n",
       "    </tr>\n",
       "  </thead>\n",
       "  <tbody>\n",
       "    <tr>\n",
       "      <th>0</th>\n",
       "      <td>2023-06-20 00:00:00-04:00</td>\n",
       "      <td>485.630005</td>\n",
       "      <td>492.690002</td>\n",
       "      <td>480.000000</td>\n",
       "      <td>485.859985</td>\n",
       "      <td>5331200</td>\n",
       "      <td>0.0</td>\n",
       "      <td>0.0</td>\n",
       "    </tr>\n",
       "    <tr>\n",
       "      <th>1</th>\n",
       "      <td>2023-06-21 00:00:00-04:00</td>\n",
       "      <td>492.000000</td>\n",
       "      <td>495.549988</td>\n",
       "      <td>475.309998</td>\n",
       "      <td>477.480011</td>\n",
       "      <td>5258700</td>\n",
       "      <td>0.0</td>\n",
       "      <td>0.0</td>\n",
       "    </tr>\n",
       "    <tr>\n",
       "      <th>2</th>\n",
       "      <td>2023-06-22 00:00:00-04:00</td>\n",
       "      <td>474.119995</td>\n",
       "      <td>481.000000</td>\n",
       "      <td>473.019989</td>\n",
       "      <td>477.579987</td>\n",
       "      <td>3601400</td>\n",
       "      <td>0.0</td>\n",
       "      <td>0.0</td>\n",
       "    </tr>\n",
       "    <tr>\n",
       "      <th>3</th>\n",
       "      <td>2023-06-23 00:00:00-04:00</td>\n",
       "      <td>472.950012</td>\n",
       "      <td>487.329987</td>\n",
       "      <td>472.320007</td>\n",
       "      <td>484.720001</td>\n",
       "      <td>4450200</td>\n",
       "      <td>0.0</td>\n",
       "      <td>0.0</td>\n",
       "    </tr>\n",
       "    <tr>\n",
       "      <th>4</th>\n",
       "      <td>2023-06-26 00:00:00-04:00</td>\n",
       "      <td>483.010010</td>\n",
       "      <td>487.160004</td>\n",
       "      <td>479.049988</td>\n",
       "      <td>479.510010</td>\n",
       "      <td>3169500</td>\n",
       "      <td>0.0</td>\n",
       "      <td>0.0</td>\n",
       "    </tr>\n",
       "  </tbody>\n",
       "</table>\n",
       "</div>"
      ],
      "text/plain": [
       "                       Date        Open        High         Low       Close  \\\n",
       "0 2023-06-20 00:00:00-04:00  485.630005  492.690002  480.000000  485.859985   \n",
       "1 2023-06-21 00:00:00-04:00  492.000000  495.549988  475.309998  477.480011   \n",
       "2 2023-06-22 00:00:00-04:00  474.119995  481.000000  473.019989  477.579987   \n",
       "3 2023-06-23 00:00:00-04:00  472.950012  487.329987  472.320007  484.720001   \n",
       "4 2023-06-26 00:00:00-04:00  483.010010  487.160004  479.049988  479.510010   \n",
       "\n",
       "    Volume  Dividends  Stock Splits  \n",
       "0  5331200        0.0           0.0  \n",
       "1  5258700        0.0           0.0  \n",
       "2  3601400        0.0           0.0  \n",
       "3  4450200        0.0           0.0  \n",
       "4  3169500        0.0           0.0  "
      ]
     },
     "execution_count": 21,
     "metadata": {},
     "output_type": "execute_result"
    }
   ],
   "source": [
    "data['Date'] = pd.to_datetime(data['Date'])\n",
    "data.head()"
   ]
  },
  {
   "cell_type": "markdown",
   "id": "6380979a",
   "metadata": {},
   "source": [
    "### **1.2** Kiểm tra trùng lặp (Duplicates):\n",
    "\n",
    "Việc dữ liệu bị trùng lặp sẽ ảnh hưởng đến việc tính toán dữ liệu trung bình biểu đồ,..."
   ]
  },
  {
   "cell_type": "code",
   "execution_count": 22,
   "id": "b11d9f40",
   "metadata": {},
   "outputs": [
    {
     "data": {
      "text/html": [
       "<div>\n",
       "<style scoped>\n",
       "    .dataframe tbody tr th:only-of-type {\n",
       "        vertical-align: middle;\n",
       "    }\n",
       "\n",
       "    .dataframe tbody tr th {\n",
       "        vertical-align: top;\n",
       "    }\n",
       "\n",
       "    .dataframe thead th {\n",
       "        text-align: right;\n",
       "    }\n",
       "</style>\n",
       "<table border=\"1\" class=\"dataframe\">\n",
       "  <thead>\n",
       "    <tr style=\"text-align: right;\">\n",
       "      <th></th>\n",
       "      <th>Date</th>\n",
       "      <th>Open</th>\n",
       "      <th>High</th>\n",
       "      <th>Low</th>\n",
       "      <th>Close</th>\n",
       "      <th>Volume</th>\n",
       "      <th>Dividends</th>\n",
       "      <th>Stock Splits</th>\n",
       "    </tr>\n",
       "  </thead>\n",
       "  <tbody>\n",
       "    <tr>\n",
       "      <th>0</th>\n",
       "      <td>2023-06-20 00:00:00-04:00</td>\n",
       "      <td>485.630005</td>\n",
       "      <td>492.690002</td>\n",
       "      <td>480.000000</td>\n",
       "      <td>485.859985</td>\n",
       "      <td>5331200</td>\n",
       "      <td>0.0</td>\n",
       "      <td>0.0</td>\n",
       "    </tr>\n",
       "    <tr>\n",
       "      <th>1</th>\n",
       "      <td>2023-06-21 00:00:00-04:00</td>\n",
       "      <td>492.000000</td>\n",
       "      <td>495.549988</td>\n",
       "      <td>475.309998</td>\n",
       "      <td>477.480011</td>\n",
       "      <td>5258700</td>\n",
       "      <td>0.0</td>\n",
       "      <td>0.0</td>\n",
       "    </tr>\n",
       "    <tr>\n",
       "      <th>2</th>\n",
       "      <td>2023-06-22 00:00:00-04:00</td>\n",
       "      <td>474.119995</td>\n",
       "      <td>481.000000</td>\n",
       "      <td>473.019989</td>\n",
       "      <td>477.579987</td>\n",
       "      <td>3601400</td>\n",
       "      <td>0.0</td>\n",
       "      <td>0.0</td>\n",
       "    </tr>\n",
       "    <tr>\n",
       "      <th>3</th>\n",
       "      <td>2023-06-23 00:00:00-04:00</td>\n",
       "      <td>472.950012</td>\n",
       "      <td>487.329987</td>\n",
       "      <td>472.320007</td>\n",
       "      <td>484.720001</td>\n",
       "      <td>4450200</td>\n",
       "      <td>0.0</td>\n",
       "      <td>0.0</td>\n",
       "    </tr>\n",
       "    <tr>\n",
       "      <th>4</th>\n",
       "      <td>2023-06-26 00:00:00-04:00</td>\n",
       "      <td>483.010010</td>\n",
       "      <td>487.160004</td>\n",
       "      <td>479.049988</td>\n",
       "      <td>479.510010</td>\n",
       "      <td>3169500</td>\n",
       "      <td>0.0</td>\n",
       "      <td>0.0</td>\n",
       "    </tr>\n",
       "  </tbody>\n",
       "</table>\n",
       "</div>"
      ],
      "text/plain": [
       "                       Date        Open        High         Low       Close  \\\n",
       "0 2023-06-20 00:00:00-04:00  485.630005  492.690002  480.000000  485.859985   \n",
       "1 2023-06-21 00:00:00-04:00  492.000000  495.549988  475.309998  477.480011   \n",
       "2 2023-06-22 00:00:00-04:00  474.119995  481.000000  473.019989  477.579987   \n",
       "3 2023-06-23 00:00:00-04:00  472.950012  487.329987  472.320007  484.720001   \n",
       "4 2023-06-26 00:00:00-04:00  483.010010  487.160004  479.049988  479.510010   \n",
       "\n",
       "    Volume  Dividends  Stock Splits  \n",
       "0  5331200        0.0           0.0  \n",
       "1  5258700        0.0           0.0  \n",
       "2  3601400        0.0           0.0  \n",
       "3  4450200        0.0           0.0  \n",
       "4  3169500        0.0           0.0  "
      ]
     },
     "execution_count": 22,
     "metadata": {},
     "output_type": "execute_result"
    }
   ],
   "source": [
    "data = data.drop_duplicates()\n",
    "data.head()"
   ]
  },
  {
   "cell_type": "markdown",
   "id": "7e6186b9",
   "metadata": {},
   "source": [
    "### **1.3** Kiểm tra và loại bỏ bất thường (outliers)"
   ]
  },
  {
   "cell_type": "markdown",
   "id": "50404f04",
   "metadata": {},
   "source": [
    " Outliers (Giá trị ngoại lai) trong dữ liệu tài chính\n",
    "\n",
    "**Outliers** là những điểm dữ liệu khác biệt rõ rệt so với phần còn lại, thường nằm rất xa trung bình hoặc ngoài vùng phân bố thông thường.\n",
    "\n",
    "Trong dữ liệu tài chính (ví dụ: cổ phiếu), outliers có thể là:\n",
    "\n",
    "-  Giá đóng cửa tăng/giảm đột biến bất thường.\n",
    "-  Khối lượng giao dịch (volume) cực kỳ cao hoặc thấp so với bình thường.\n",
    "-  Lỗi nhập liệu (ví dụ: giá = 0, hoặc = 99999).\n",
    "\n",
    "---\n",
    "\n",
    "Mục đích của việc xử lý outliers:\n",
    "\n",
    "-  **Cải thiện chất lượng dữ liệu** để các mô hình, biểu đồ, hoặc thống kê không bị sai lệch.\n",
    "-  **Phát hiện điểm bất thường** – có thể là cơ hội đầu tư hoặc dấu hiệu lỗi dữ liệu.\n",
    "-  **Làm mượt dữ liệu** giúp các thuật toán nhạy cảm hoạt động ổn định hơn (trung bình, hồi quy, mô hình ML...).\n"
   ]
  },
  {
   "cell_type": "markdown",
   "id": "87e8a77c",
   "metadata": {},
   "source": [
    "Chúng ta sẽ sử dụng phương pháp **IQR (Interquartile Range)** để phát hiện outliers trong cột `Close`\n",
    "\n",
    "Trước tiên ta sẽ sắp xếp giá theo chiều từ thấp đến cao cuối ngày"
   ]
  },
  {
   "cell_type": "code",
   "execution_count": 23,
   "id": "59156483",
   "metadata": {},
   "outputs": [],
   "source": [
    "dt1 = data.sort_values(\"Close\")"
   ]
  },
  {
   "cell_type": "markdown",
   "id": "068b352c",
   "metadata": {},
   "source": [
    "Ta sẽ tính các tứ phân vị Q1 (25%) ; Q3 (75%) và chỉ số IQR cho cột close\n",
    "\n",
    "Chỉ số IQR được tính bằng Q3 - Q1"
   ]
  },
  {
   "cell_type": "code",
   "execution_count": 24,
   "id": "33ebaf6a",
   "metadata": {},
   "outputs": [],
   "source": [
    "Q1 = dt1[\"Close\"].quantile(0.25)\n",
    "Q3 = dt1[\"Close\"].quantile(0.75)\n",
    "IQR = Q3 - Q1"
   ]
  },
  {
   "cell_type": "markdown",
   "id": "ddb26822",
   "metadata": {},
   "source": [
    "##### Xác định ngưỡng bất thường\n",
    "\n",
    "Theo lý thuyết IQR, các giá trị ngoại lai sẽ nằm ngoài khoảng:\n",
    "\n",
    "- *Thấp hơn*: `Q1 - 1.5 × IQR`\n",
    "- *Cao hơn*: `Q3 + 1.5 × IQR`\n",
    "\n"
   ]
  },
  {
   "cell_type": "code",
   "execution_count": 25,
   "id": "e6d09980",
   "metadata": {},
   "outputs": [],
   "source": [
    "lower = Q1 - 1.5 * IQR\n",
    "upper= Q3 + 1.5 * IQR"
   ]
  },
  {
   "cell_type": "markdown",
   "id": "3004e7fb",
   "metadata": {},
   "source": [
    "Tiến hành loại bỏ outliers ra khỏi dữ liệu:"
   ]
  },
  {
   "cell_type": "code",
   "execution_count": 26,
   "id": "63b1dd8d",
   "metadata": {},
   "outputs": [
    {
     "data": {
      "text/html": [
       "<div>\n",
       "<style scoped>\n",
       "    .dataframe tbody tr th:only-of-type {\n",
       "        vertical-align: middle;\n",
       "    }\n",
       "\n",
       "    .dataframe tbody tr th {\n",
       "        vertical-align: top;\n",
       "    }\n",
       "\n",
       "    .dataframe thead th {\n",
       "        text-align: right;\n",
       "    }\n",
       "</style>\n",
       "<table border=\"1\" class=\"dataframe\">\n",
       "  <thead>\n",
       "    <tr style=\"text-align: right;\">\n",
       "      <th></th>\n",
       "      <th>Date</th>\n",
       "      <th>Open</th>\n",
       "      <th>High</th>\n",
       "      <th>Low</th>\n",
       "      <th>Close</th>\n",
       "      <th>Volume</th>\n",
       "      <th>Dividends</th>\n",
       "      <th>Stock Splits</th>\n",
       "    </tr>\n",
       "  </thead>\n",
       "  <tbody>\n",
       "    <tr>\n",
       "      <th>0</th>\n",
       "      <td>2023-06-20 00:00:00-04:00</td>\n",
       "      <td>485.630005</td>\n",
       "      <td>492.690002</td>\n",
       "      <td>480.000000</td>\n",
       "      <td>485.859985</td>\n",
       "      <td>5331200</td>\n",
       "      <td>0.0</td>\n",
       "      <td>0.0</td>\n",
       "    </tr>\n",
       "    <tr>\n",
       "      <th>1</th>\n",
       "      <td>2023-06-21 00:00:00-04:00</td>\n",
       "      <td>492.000000</td>\n",
       "      <td>495.549988</td>\n",
       "      <td>475.309998</td>\n",
       "      <td>477.480011</td>\n",
       "      <td>5258700</td>\n",
       "      <td>0.0</td>\n",
       "      <td>0.0</td>\n",
       "    </tr>\n",
       "    <tr>\n",
       "      <th>2</th>\n",
       "      <td>2023-06-22 00:00:00-04:00</td>\n",
       "      <td>474.119995</td>\n",
       "      <td>481.000000</td>\n",
       "      <td>473.019989</td>\n",
       "      <td>477.579987</td>\n",
       "      <td>3601400</td>\n",
       "      <td>0.0</td>\n",
       "      <td>0.0</td>\n",
       "    </tr>\n",
       "    <tr>\n",
       "      <th>3</th>\n",
       "      <td>2023-06-23 00:00:00-04:00</td>\n",
       "      <td>472.950012</td>\n",
       "      <td>487.329987</td>\n",
       "      <td>472.320007</td>\n",
       "      <td>484.720001</td>\n",
       "      <td>4450200</td>\n",
       "      <td>0.0</td>\n",
       "      <td>0.0</td>\n",
       "    </tr>\n",
       "    <tr>\n",
       "      <th>4</th>\n",
       "      <td>2023-06-26 00:00:00-04:00</td>\n",
       "      <td>483.010010</td>\n",
       "      <td>487.160004</td>\n",
       "      <td>479.049988</td>\n",
       "      <td>479.510010</td>\n",
       "      <td>3169500</td>\n",
       "      <td>0.0</td>\n",
       "      <td>0.0</td>\n",
       "    </tr>\n",
       "  </tbody>\n",
       "</table>\n",
       "</div>"
      ],
      "text/plain": [
       "                       Date        Open        High         Low       Close  \\\n",
       "0 2023-06-20 00:00:00-04:00  485.630005  492.690002  480.000000  485.859985   \n",
       "1 2023-06-21 00:00:00-04:00  492.000000  495.549988  475.309998  477.480011   \n",
       "2 2023-06-22 00:00:00-04:00  474.119995  481.000000  473.019989  477.579987   \n",
       "3 2023-06-23 00:00:00-04:00  472.950012  487.329987  472.320007  484.720001   \n",
       "4 2023-06-26 00:00:00-04:00  483.010010  487.160004  479.049988  479.510010   \n",
       "\n",
       "    Volume  Dividends  Stock Splits  \n",
       "0  5331200        0.0           0.0  \n",
       "1  5258700        0.0           0.0  \n",
       "2  3601400        0.0           0.0  \n",
       "3  4450200        0.0           0.0  \n",
       "4  3169500        0.0           0.0  "
      ]
     },
     "execution_count": 26,
     "metadata": {},
     "output_type": "execute_result"
    }
   ],
   "source": [
    "data = data[(data['Close'] >= lower) & (data['Close'] <= upper)].copy()\n",
    "data.head()"
   ]
  },
  {
   "cell_type": "markdown",
   "id": "13112b39",
   "metadata": {},
   "source": [
    "##### Kết luận sau khi làm sạch dữ liệu\n",
    "\n",
    "Sau quá trình kiểm tra và xử lý dữ liệu:\n",
    "\n",
    "- Các dòng có giá trị bị thiếu (NaN) đã được loại bỏ hoặc điền hợp lý.\n",
    "- Những ngày không giao dịch hoặc phiên giao dịch nửa ngày đã được loại trừ khỏi tập dữ liệu.\n",
    "- Các giá trị ngoại lai (outliers) trong cột `Close` đã được phát hiện và loại bỏ bằng phương pháp IQR.\n",
    "\n",
    "Việc làm sạch dữ liệu giúp đảm bảo độ tin cậy cho các phân tích tiếp theo, giảm nhiễu, và phản ánh chính xác hơn xu hướng thực tế của cổ phiếu.\n",
    "\n",
    "\n",
    "**Do đó, không cần thực hiện thao tác loại bỏ hay xử lí thêm. Dữ liệu đã sẵn sàng để tính toán các chỉ số kỹ thuật và phân tích tiếp theo.**"
   ]
  },
  {
   "cell_type": "markdown",
   "id": "f3cb5776",
   "metadata": {},
   "source": [
    "## **III** Tính toán chỉ số kĩ thuật cơ bản:\n",
    "### **1.0.** Trung bình động đơn giản **SMA** \n",
    "SMA (Simple Moving Average) là đường trung bình động đơn giản, được tính bằng cách lấy trung bình cộng của giá đóng cửa trong một khoảng thời gian nhất định. SMA giúp làm mượt dữ liệu giá và xác định xu hướng chung của thị trường. Phản ứng chậm với biến động ngắn hạn, phù hợp để quan sát xu hướng trung và dài hạn, ở đây chúng ta sẽ tính SMA trong khoảng thời gian 20, 50 ngày"
   ]
  },
  {
   "cell_type": "code",
   "execution_count": 27,
   "id": "82ed380d",
   "metadata": {},
   "outputs": [
    {
     "data": {
      "text/html": [
       "<div>\n",
       "<style scoped>\n",
       "    .dataframe tbody tr th:only-of-type {\n",
       "        vertical-align: middle;\n",
       "    }\n",
       "\n",
       "    .dataframe tbody tr th {\n",
       "        vertical-align: top;\n",
       "    }\n",
       "\n",
       "    .dataframe thead th {\n",
       "        text-align: right;\n",
       "    }\n",
       "</style>\n",
       "<table border=\"1\" class=\"dataframe\">\n",
       "  <thead>\n",
       "    <tr style=\"text-align: right;\">\n",
       "      <th></th>\n",
       "      <th>Date</th>\n",
       "      <th>Open</th>\n",
       "      <th>High</th>\n",
       "      <th>Low</th>\n",
       "      <th>Close</th>\n",
       "      <th>Volume</th>\n",
       "      <th>Dividends</th>\n",
       "      <th>Stock Splits</th>\n",
       "      <th>SMA_20</th>\n",
       "      <th>SMA_50</th>\n",
       "    </tr>\n",
       "  </thead>\n",
       "  <tbody>\n",
       "    <tr>\n",
       "      <th>0</th>\n",
       "      <td>2023-06-20 00:00:00-04:00</td>\n",
       "      <td>485.630005</td>\n",
       "      <td>492.690002</td>\n",
       "      <td>480.000000</td>\n",
       "      <td>485.859985</td>\n",
       "      <td>5331200</td>\n",
       "      <td>0.0</td>\n",
       "      <td>0.0</td>\n",
       "      <td>NaN</td>\n",
       "      <td>NaN</td>\n",
       "    </tr>\n",
       "    <tr>\n",
       "      <th>1</th>\n",
       "      <td>2023-06-21 00:00:00-04:00</td>\n",
       "      <td>492.000000</td>\n",
       "      <td>495.549988</td>\n",
       "      <td>475.309998</td>\n",
       "      <td>477.480011</td>\n",
       "      <td>5258700</td>\n",
       "      <td>0.0</td>\n",
       "      <td>0.0</td>\n",
       "      <td>NaN</td>\n",
       "      <td>NaN</td>\n",
       "    </tr>\n",
       "    <tr>\n",
       "      <th>2</th>\n",
       "      <td>2023-06-22 00:00:00-04:00</td>\n",
       "      <td>474.119995</td>\n",
       "      <td>481.000000</td>\n",
       "      <td>473.019989</td>\n",
       "      <td>477.579987</td>\n",
       "      <td>3601400</td>\n",
       "      <td>0.0</td>\n",
       "      <td>0.0</td>\n",
       "      <td>NaN</td>\n",
       "      <td>NaN</td>\n",
       "    </tr>\n",
       "    <tr>\n",
       "      <th>3</th>\n",
       "      <td>2023-06-23 00:00:00-04:00</td>\n",
       "      <td>472.950012</td>\n",
       "      <td>487.329987</td>\n",
       "      <td>472.320007</td>\n",
       "      <td>484.720001</td>\n",
       "      <td>4450200</td>\n",
       "      <td>0.0</td>\n",
       "      <td>0.0</td>\n",
       "      <td>NaN</td>\n",
       "      <td>NaN</td>\n",
       "    </tr>\n",
       "    <tr>\n",
       "      <th>4</th>\n",
       "      <td>2023-06-26 00:00:00-04:00</td>\n",
       "      <td>483.010010</td>\n",
       "      <td>487.160004</td>\n",
       "      <td>479.049988</td>\n",
       "      <td>479.510010</td>\n",
       "      <td>3169500</td>\n",
       "      <td>0.0</td>\n",
       "      <td>0.0</td>\n",
       "      <td>NaN</td>\n",
       "      <td>NaN</td>\n",
       "    </tr>\n",
       "  </tbody>\n",
       "</table>\n",
       "</div>"
      ],
      "text/plain": [
       "                       Date        Open        High         Low       Close  \\\n",
       "0 2023-06-20 00:00:00-04:00  485.630005  492.690002  480.000000  485.859985   \n",
       "1 2023-06-21 00:00:00-04:00  492.000000  495.549988  475.309998  477.480011   \n",
       "2 2023-06-22 00:00:00-04:00  474.119995  481.000000  473.019989  477.579987   \n",
       "3 2023-06-23 00:00:00-04:00  472.950012  487.329987  472.320007  484.720001   \n",
       "4 2023-06-26 00:00:00-04:00  483.010010  487.160004  479.049988  479.510010   \n",
       "\n",
       "    Volume  Dividends  Stock Splits  SMA_20  SMA_50  \n",
       "0  5331200        0.0           0.0     NaN     NaN  \n",
       "1  5258700        0.0           0.0     NaN     NaN  \n",
       "2  3601400        0.0           0.0     NaN     NaN  \n",
       "3  4450200        0.0           0.0     NaN     NaN  \n",
       "4  3169500        0.0           0.0     NaN     NaN  "
      ]
     },
     "execution_count": 27,
     "metadata": {},
     "output_type": "execute_result"
    }
   ],
   "source": [
    "data['SMA_20'] = data['Close'].rolling(window=20).mean()\n",
    "data['SMA_50'] = data['Close'].rolling(window=50).mean()\n",
    "data.head()"
   ]
  },
  {
   "cell_type": "markdown",
   "id": "99b897ca",
   "metadata": {},
   "source": [
    "##### **1.1.** Trung bình động hàm mũ **EMA** \n",
    "\n",
    "EMA (Exponential Moving Average) là đường trung bình động hàm mũ, ưu tiên giá trị gần hiện tại bằng cách gán trọng số cao hơn cho các ngày gần nhất.  \n",
    "EMA phản ứng nhanh hơn SMA trước các biến động giá, giúp phát hiện tín hiệu mua – bán sớm hơn, thường được dùng trong các chiến lược giao dịch ngắn hạn "
   ]
  },
  {
   "cell_type": "code",
   "execution_count": 28,
   "id": "86deb549",
   "metadata": {},
   "outputs": [
    {
     "data": {
      "text/html": [
       "<div>\n",
       "<style scoped>\n",
       "    .dataframe tbody tr th:only-of-type {\n",
       "        vertical-align: middle;\n",
       "    }\n",
       "\n",
       "    .dataframe tbody tr th {\n",
       "        vertical-align: top;\n",
       "    }\n",
       "\n",
       "    .dataframe thead th {\n",
       "        text-align: right;\n",
       "    }\n",
       "</style>\n",
       "<table border=\"1\" class=\"dataframe\">\n",
       "  <thead>\n",
       "    <tr style=\"text-align: right;\">\n",
       "      <th></th>\n",
       "      <th>Date</th>\n",
       "      <th>Open</th>\n",
       "      <th>High</th>\n",
       "      <th>Low</th>\n",
       "      <th>Close</th>\n",
       "      <th>Volume</th>\n",
       "      <th>Dividends</th>\n",
       "      <th>Stock Splits</th>\n",
       "      <th>SMA_20</th>\n",
       "      <th>SMA_50</th>\n",
       "      <th>EMA_20</th>\n",
       "    </tr>\n",
       "  </thead>\n",
       "  <tbody>\n",
       "    <tr>\n",
       "      <th>0</th>\n",
       "      <td>2023-06-20 00:00:00-04:00</td>\n",
       "      <td>485.630005</td>\n",
       "      <td>492.690002</td>\n",
       "      <td>480.000000</td>\n",
       "      <td>485.859985</td>\n",
       "      <td>5331200</td>\n",
       "      <td>0.0</td>\n",
       "      <td>0.0</td>\n",
       "      <td>NaN</td>\n",
       "      <td>NaN</td>\n",
       "      <td>485.859985</td>\n",
       "    </tr>\n",
       "    <tr>\n",
       "      <th>1</th>\n",
       "      <td>2023-06-21 00:00:00-04:00</td>\n",
       "      <td>492.000000</td>\n",
       "      <td>495.549988</td>\n",
       "      <td>475.309998</td>\n",
       "      <td>477.480011</td>\n",
       "      <td>5258700</td>\n",
       "      <td>0.0</td>\n",
       "      <td>0.0</td>\n",
       "      <td>NaN</td>\n",
       "      <td>NaN</td>\n",
       "      <td>485.061893</td>\n",
       "    </tr>\n",
       "    <tr>\n",
       "      <th>2</th>\n",
       "      <td>2023-06-22 00:00:00-04:00</td>\n",
       "      <td>474.119995</td>\n",
       "      <td>481.000000</td>\n",
       "      <td>473.019989</td>\n",
       "      <td>477.579987</td>\n",
       "      <td>3601400</td>\n",
       "      <td>0.0</td>\n",
       "      <td>0.0</td>\n",
       "      <td>NaN</td>\n",
       "      <td>NaN</td>\n",
       "      <td>484.349330</td>\n",
       "    </tr>\n",
       "    <tr>\n",
       "      <th>3</th>\n",
       "      <td>2023-06-23 00:00:00-04:00</td>\n",
       "      <td>472.950012</td>\n",
       "      <td>487.329987</td>\n",
       "      <td>472.320007</td>\n",
       "      <td>484.720001</td>\n",
       "      <td>4450200</td>\n",
       "      <td>0.0</td>\n",
       "      <td>0.0</td>\n",
       "      <td>NaN</td>\n",
       "      <td>NaN</td>\n",
       "      <td>484.384632</td>\n",
       "    </tr>\n",
       "    <tr>\n",
       "      <th>4</th>\n",
       "      <td>2023-06-26 00:00:00-04:00</td>\n",
       "      <td>483.010010</td>\n",
       "      <td>487.160004</td>\n",
       "      <td>479.049988</td>\n",
       "      <td>479.510010</td>\n",
       "      <td>3169500</td>\n",
       "      <td>0.0</td>\n",
       "      <td>0.0</td>\n",
       "      <td>NaN</td>\n",
       "      <td>NaN</td>\n",
       "      <td>483.920382</td>\n",
       "    </tr>\n",
       "  </tbody>\n",
       "</table>\n",
       "</div>"
      ],
      "text/plain": [
       "                       Date        Open        High         Low       Close  \\\n",
       "0 2023-06-20 00:00:00-04:00  485.630005  492.690002  480.000000  485.859985   \n",
       "1 2023-06-21 00:00:00-04:00  492.000000  495.549988  475.309998  477.480011   \n",
       "2 2023-06-22 00:00:00-04:00  474.119995  481.000000  473.019989  477.579987   \n",
       "3 2023-06-23 00:00:00-04:00  472.950012  487.329987  472.320007  484.720001   \n",
       "4 2023-06-26 00:00:00-04:00  483.010010  487.160004  479.049988  479.510010   \n",
       "\n",
       "    Volume  Dividends  Stock Splits  SMA_20  SMA_50      EMA_20  \n",
       "0  5331200        0.0           0.0     NaN     NaN  485.859985  \n",
       "1  5258700        0.0           0.0     NaN     NaN  485.061893  \n",
       "2  3601400        0.0           0.0     NaN     NaN  484.349330  \n",
       "3  4450200        0.0           0.0     NaN     NaN  484.384632  \n",
       "4  3169500        0.0           0.0     NaN     NaN  483.920382  "
      ]
     },
     "execution_count": 28,
     "metadata": {},
     "output_type": "execute_result"
    }
   ],
   "source": [
    "data['EMA_20'] = data['Close'].ewm(span=20, adjust=False).mean()\n",
    "data.head()"
   ]
  },
  {
   "cell_type": "markdown",
   "id": "7b60f2a4",
   "metadata": {},
   "source": [
    "##### **1.2.** Chỉ số sức mạnh tương đối **RSI**:\n",
    "\n",
    "RSI (Relative Strength Index) là chỉ báo đo lường động lượng và mức độ thay đổi giá, dao động trong khoảng từ 0 đến 100.  \n",
    "RSI thường dùng để xác định vùng quá mua (RSI > 70) hoặc quá bán (RSI < 30), giúp dự đoán khả năng đảo chiều xu hướng.  \n",
    "Chỉ báo này đặc biệt hữu ích trong các phân tích ngắn hạn để nhận diện điểm vào và thoát lệnh tiềm năng."
   ]
  },
  {
   "cell_type": "code",
   "execution_count": 29,
   "id": "274e05cd",
   "metadata": {},
   "outputs": [
    {
     "data": {
      "text/html": [
       "<div>\n",
       "<style scoped>\n",
       "    .dataframe tbody tr th:only-of-type {\n",
       "        vertical-align: middle;\n",
       "    }\n",
       "\n",
       "    .dataframe tbody tr th {\n",
       "        vertical-align: top;\n",
       "    }\n",
       "\n",
       "    .dataframe thead th {\n",
       "        text-align: right;\n",
       "    }\n",
       "</style>\n",
       "<table border=\"1\" class=\"dataframe\">\n",
       "  <thead>\n",
       "    <tr style=\"text-align: right;\">\n",
       "      <th></th>\n",
       "      <th>Date</th>\n",
       "      <th>Open</th>\n",
       "      <th>High</th>\n",
       "      <th>Low</th>\n",
       "      <th>Close</th>\n",
       "      <th>Volume</th>\n",
       "      <th>Dividends</th>\n",
       "      <th>Stock Splits</th>\n",
       "      <th>SMA_20</th>\n",
       "      <th>SMA_50</th>\n",
       "      <th>EMA_20</th>\n",
       "      <th>RSI</th>\n",
       "    </tr>\n",
       "  </thead>\n",
       "  <tbody>\n",
       "    <tr>\n",
       "      <th>0</th>\n",
       "      <td>2023-06-20 00:00:00-04:00</td>\n",
       "      <td>485.630005</td>\n",
       "      <td>492.690002</td>\n",
       "      <td>480.000000</td>\n",
       "      <td>485.859985</td>\n",
       "      <td>5331200</td>\n",
       "      <td>0.0</td>\n",
       "      <td>0.0</td>\n",
       "      <td>NaN</td>\n",
       "      <td>NaN</td>\n",
       "      <td>485.859985</td>\n",
       "      <td>NaN</td>\n",
       "    </tr>\n",
       "    <tr>\n",
       "      <th>1</th>\n",
       "      <td>2023-06-21 00:00:00-04:00</td>\n",
       "      <td>492.000000</td>\n",
       "      <td>495.549988</td>\n",
       "      <td>475.309998</td>\n",
       "      <td>477.480011</td>\n",
       "      <td>5258700</td>\n",
       "      <td>0.0</td>\n",
       "      <td>0.0</td>\n",
       "      <td>NaN</td>\n",
       "      <td>NaN</td>\n",
       "      <td>485.061893</td>\n",
       "      <td>NaN</td>\n",
       "    </tr>\n",
       "    <tr>\n",
       "      <th>2</th>\n",
       "      <td>2023-06-22 00:00:00-04:00</td>\n",
       "      <td>474.119995</td>\n",
       "      <td>481.000000</td>\n",
       "      <td>473.019989</td>\n",
       "      <td>477.579987</td>\n",
       "      <td>3601400</td>\n",
       "      <td>0.0</td>\n",
       "      <td>0.0</td>\n",
       "      <td>NaN</td>\n",
       "      <td>NaN</td>\n",
       "      <td>484.349330</td>\n",
       "      <td>NaN</td>\n",
       "    </tr>\n",
       "    <tr>\n",
       "      <th>3</th>\n",
       "      <td>2023-06-23 00:00:00-04:00</td>\n",
       "      <td>472.950012</td>\n",
       "      <td>487.329987</td>\n",
       "      <td>472.320007</td>\n",
       "      <td>484.720001</td>\n",
       "      <td>4450200</td>\n",
       "      <td>0.0</td>\n",
       "      <td>0.0</td>\n",
       "      <td>NaN</td>\n",
       "      <td>NaN</td>\n",
       "      <td>484.384632</td>\n",
       "      <td>NaN</td>\n",
       "    </tr>\n",
       "    <tr>\n",
       "      <th>4</th>\n",
       "      <td>2023-06-26 00:00:00-04:00</td>\n",
       "      <td>483.010010</td>\n",
       "      <td>487.160004</td>\n",
       "      <td>479.049988</td>\n",
       "      <td>479.510010</td>\n",
       "      <td>3169500</td>\n",
       "      <td>0.0</td>\n",
       "      <td>0.0</td>\n",
       "      <td>NaN</td>\n",
       "      <td>NaN</td>\n",
       "      <td>483.920382</td>\n",
       "      <td>NaN</td>\n",
       "    </tr>\n",
       "  </tbody>\n",
       "</table>\n",
       "</div>"
      ],
      "text/plain": [
       "                       Date        Open        High         Low       Close  \\\n",
       "0 2023-06-20 00:00:00-04:00  485.630005  492.690002  480.000000  485.859985   \n",
       "1 2023-06-21 00:00:00-04:00  492.000000  495.549988  475.309998  477.480011   \n",
       "2 2023-06-22 00:00:00-04:00  474.119995  481.000000  473.019989  477.579987   \n",
       "3 2023-06-23 00:00:00-04:00  472.950012  487.329987  472.320007  484.720001   \n",
       "4 2023-06-26 00:00:00-04:00  483.010010  487.160004  479.049988  479.510010   \n",
       "\n",
       "    Volume  Dividends  Stock Splits  SMA_20  SMA_50      EMA_20  RSI  \n",
       "0  5331200        0.0           0.0     NaN     NaN  485.859985  NaN  \n",
       "1  5258700        0.0           0.0     NaN     NaN  485.061893  NaN  \n",
       "2  3601400        0.0           0.0     NaN     NaN  484.349330  NaN  \n",
       "3  4450200        0.0           0.0     NaN     NaN  484.384632  NaN  \n",
       "4  3169500        0.0           0.0     NaN     NaN  483.920382  NaN  "
      ]
     },
     "execution_count": 29,
     "metadata": {},
     "output_type": "execute_result"
    }
   ],
   "source": [
    "difference = data['Close'].diff()\n",
    "\n",
    "increase = difference.where(difference > 0, 0)\n",
    "decrease = -difference.where(difference < 0, 0)\n",
    "\n",
    "avg_increase = increase.rolling(window=14).mean()\n",
    "avg_decrease = decrease.rolling(window=14).mean()\n",
    "\n",
    "rsi = 100 - (100 / (1 + (avg_increase / avg_decrease)))\n",
    "data['RSI'] = rsi\n",
    "data.head()"
   ]
  },
  {
   "cell_type": "markdown",
   "id": "6a389aa9",
   "metadata": {},
   "source": [
    "**Loại bỏ dữ liệu thiếu (NaN)**\n",
    "\n",
    "Sau khi tính các chỉ báo kỹ thuật như SMA, EMA và RSI, một số dòng đầu tiên trong bộ dữ liệu sẽ chứa giá trị NaN do chưa đủ dữ liệu để tính toán.  \n",
    "Để đảm bảo quá trình phân tích và trực quan hóa không gặp lỗi, ta sẽ loại bỏ toàn bộ các dòng chứa giá trị thiếu này.\n"
   ]
  },
  {
   "cell_type": "code",
   "execution_count": 31,
   "id": "33426d1d",
   "metadata": {},
   "outputs": [
    {
     "data": {
      "text/html": [
       "<div>\n",
       "<style scoped>\n",
       "    .dataframe tbody tr th:only-of-type {\n",
       "        vertical-align: middle;\n",
       "    }\n",
       "\n",
       "    .dataframe tbody tr th {\n",
       "        vertical-align: top;\n",
       "    }\n",
       "\n",
       "    .dataframe thead th {\n",
       "        text-align: right;\n",
       "    }\n",
       "</style>\n",
       "<table border=\"1\" class=\"dataframe\">\n",
       "  <thead>\n",
       "    <tr style=\"text-align: right;\">\n",
       "      <th></th>\n",
       "      <th>Date</th>\n",
       "      <th>Open</th>\n",
       "      <th>High</th>\n",
       "      <th>Low</th>\n",
       "      <th>Close</th>\n",
       "      <th>Volume</th>\n",
       "      <th>Dividends</th>\n",
       "      <th>Stock Splits</th>\n",
       "      <th>SMA_20</th>\n",
       "      <th>SMA_50</th>\n",
       "      <th>EMA_20</th>\n",
       "      <th>RSI</th>\n",
       "    </tr>\n",
       "  </thead>\n",
       "  <tbody>\n",
       "    <tr>\n",
       "      <th>49</th>\n",
       "      <td>2023-08-29 00:00:00-04:00</td>\n",
       "      <td>527.700012</td>\n",
       "      <td>541.969971</td>\n",
       "      <td>526.150024</td>\n",
       "      <td>540.570007</td>\n",
       "      <td>2167000</td>\n",
       "      <td>0.0</td>\n",
       "      <td>0.0</td>\n",
       "      <td>521.160500</td>\n",
       "      <td>511.455597</td>\n",
       "      <td>521.966002</td>\n",
       "      <td>62.364984</td>\n",
       "    </tr>\n",
       "    <tr>\n",
       "      <th>50</th>\n",
       "      <td>2023-08-30 00:00:00-04:00</td>\n",
       "      <td>540.099976</td>\n",
       "      <td>546.000000</td>\n",
       "      <td>536.090027</td>\n",
       "      <td>545.359985</td>\n",
       "      <td>1930300</td>\n",
       "      <td>0.0</td>\n",
       "      <td>0.0</td>\n",
       "      <td>521.913499</td>\n",
       "      <td>512.645597</td>\n",
       "      <td>524.194000</td>\n",
       "      <td>63.293403</td>\n",
       "    </tr>\n",
       "    <tr>\n",
       "      <th>51</th>\n",
       "      <td>2023-08-31 00:00:00-04:00</td>\n",
       "      <td>547.000000</td>\n",
       "      <td>562.099976</td>\n",
       "      <td>546.760010</td>\n",
       "      <td>559.340027</td>\n",
       "      <td>3919300</td>\n",
       "      <td>0.0</td>\n",
       "      <td>0.0</td>\n",
       "      <td>523.692500</td>\n",
       "      <td>514.282797</td>\n",
       "      <td>527.541241</td>\n",
       "      <td>71.624031</td>\n",
       "    </tr>\n",
       "    <tr>\n",
       "      <th>52</th>\n",
       "      <td>2023-09-01 00:00:00-04:00</td>\n",
       "      <td>564.799988</td>\n",
       "      <td>569.979980</td>\n",
       "      <td>558.520020</td>\n",
       "      <td>563.210022</td>\n",
       "      <td>2232300</td>\n",
       "      <td>0.0</td>\n",
       "      <td>0.0</td>\n",
       "      <td>525.509001</td>\n",
       "      <td>515.995398</td>\n",
       "      <td>530.938268</td>\n",
       "      <td>69.008726</td>\n",
       "    </tr>\n",
       "    <tr>\n",
       "      <th>53</th>\n",
       "      <td>2023-09-05 00:00:00-04:00</td>\n",
       "      <td>557.880005</td>\n",
       "      <td>567.590027</td>\n",
       "      <td>555.419983</td>\n",
       "      <td>564.880005</td>\n",
       "      <td>2349700</td>\n",
       "      <td>0.0</td>\n",
       "      <td>0.0</td>\n",
       "      <td>527.266502</td>\n",
       "      <td>517.598598</td>\n",
       "      <td>534.170814</td>\n",
       "      <td>71.811814</td>\n",
       "    </tr>\n",
       "  </tbody>\n",
       "</table>\n",
       "</div>"
      ],
      "text/plain": [
       "                        Date        Open        High         Low       Close  \\\n",
       "49 2023-08-29 00:00:00-04:00  527.700012  541.969971  526.150024  540.570007   \n",
       "50 2023-08-30 00:00:00-04:00  540.099976  546.000000  536.090027  545.359985   \n",
       "51 2023-08-31 00:00:00-04:00  547.000000  562.099976  546.760010  559.340027   \n",
       "52 2023-09-01 00:00:00-04:00  564.799988  569.979980  558.520020  563.210022   \n",
       "53 2023-09-05 00:00:00-04:00  557.880005  567.590027  555.419983  564.880005   \n",
       "\n",
       "     Volume  Dividends  Stock Splits      SMA_20      SMA_50      EMA_20  \\\n",
       "49  2167000        0.0           0.0  521.160500  511.455597  521.966002   \n",
       "50  1930300        0.0           0.0  521.913499  512.645597  524.194000   \n",
       "51  3919300        0.0           0.0  523.692500  514.282797  527.541241   \n",
       "52  2232300        0.0           0.0  525.509001  515.995398  530.938268   \n",
       "53  2349700        0.0           0.0  527.266502  517.598598  534.170814   \n",
       "\n",
       "          RSI  \n",
       "49  62.364984  \n",
       "50  63.293403  \n",
       "51  71.624031  \n",
       "52  69.008726  \n",
       "53  71.811814  "
      ]
     },
     "execution_count": 31,
     "metadata": {},
     "output_type": "execute_result"
    }
   ],
   "source": [
    "data.dropna(inplace=True)\n",
    "data.head()\n"
   ]
  },
  {
   "cell_type": "markdown",
   "id": "44c9bd6a",
   "metadata": {},
   "source": [
    "## **IV.** Phân tích dữ liệu:"
   ]
  },
  {
   "cell_type": "markdown",
   "id": "67bf5a17",
   "metadata": {},
   "source": [
    "### **1.0.** Tính lợi suất ngày và phân phối lợi suất:\n",
    "\n",
    "Lợi suất ngày phản ánh sự thay đổi tương đối của giá đóng cửa so với ngày trước đó.  \n",
    "Chúng ta sẽ tính lợi suất logarit để dễ phân tích và vẽ biểu đồ histogram nhằm xem phân phối của lợi suất.\n",
    "\n",
    "Công thức:\n",
    "\n",
    "rt = ln(Pt/P(t-1))\n",
    "\n",
    "Trong đó:\n",
    "- rt : Lợi suất loga tại thời điểm t\n",
    "- Pt : Giá đóng cửa ngày hôm nay\n",
    "- P(t-1) : Giá đóng cửa ngày hôm nay\n"
   ]
  },
  {
   "cell_type": "code",
   "execution_count": 32,
   "id": "1dc0273e",
   "metadata": {},
   "outputs": [],
   "source": [
    "data['Return'] = np.log(data['Close'] / data['Close'].shift(1))"
   ]
  },
  {
   "cell_type": "markdown",
   "id": "206e1448",
   "metadata": {},
   "source": [
    "- Phân phối lợi suất bằng Histogram để xem lợi suất nằm trong khoảng nào, phân phối như thế nào.\n"
   ]
  },
  {
   "cell_type": "code",
   "execution_count": 33,
   "id": "dd4e995d",
   "metadata": {},
   "outputs": [
    {
     "data": {
      "image/png": "[encoded data removed]",
      "text/plain": [
       "<Figure size 1000x600 with 1 Axes>"
      ]
     },
     "metadata": {},
     "output_type": "display_data"
    }
   ],
   "source": [
    "plt.figure(figsize=(10, 6))\n",
    "plt.hist(data['Return'].dropna(), bins=50, color=(0.1, 0.2, 0.5, 0.5), edgecolor='black')\n",
    "plt.title(\"Phân phối lợi suất logarit hằng ngày của ADBE\")\n",
    "plt.xlabel(\"Lợi suất\")\n",
    "plt.ylabel(\"Tần suất\")\n",
    "plt.grid(True)\n",
    "plt.show()\n"
   ]
  },
  {
   "cell_type": "markdown",
   "id": "b0ec1c00",
   "metadata": {},
   "source": [
    "Biểu đồ trên minh họa phân phối của lợi suất logarit hằng ngày đối với cổ phiếu ADBE. Một số đặc điểm đáng chú ý:\n",
    "\n",
    "- Lợi suất phân bố gần giống dạng chuẩn (normal), tập trung nhiều quanh giá trị 0.\n",
    "- Có sự lệch nhẹ về phía trái (skew trái), với một số ngày có mức giảm mạnh, thể hiện qua các giá trị âm lớn ở bên trái đồ thị.\n",
    "- Biểu đồ không có nhiều giá trị lợi suất lớn bất thường (bên phải), cho thấy số ngày tăng giá mạnh là ít hơn số ngày giảm sâu.\n",
    "- Đây là đặc điểm phổ biến ở nhiều cổ phiếu: **rơi nhanh nhưng tăng chậm**, nên phân phối lợi suất thường có đuôi trái dài hơn."
   ]
  },
  {
   "cell_type": "markdown",
   "id": "2712bc37",
   "metadata": {},
   "source": [
    "### **1.2** Tính độ biến động (volatility) theo tháng hoặc quý:\n"
   ]
  },
  {
   "cell_type": "markdown",
   "id": "b66b815a",
   "metadata": {},
   "source": [
    "Độ biến động được đo bằng `độ lệch chuẩn` của lợi suất ngày.  \n",
    "Chúng ta sẽ nhóm dữ liệu theo tháng và tính standard deviation để xem biến động của cổ phiếu ADBE qua từng tháng."
   ]
  },
  {
   "cell_type": "code",
   "execution_count": 35,
   "id": "641142e0",
   "metadata": {},
   "outputs": [],
   "source": [
    "\n",
    "monthly_volatility = data.set_index('Date')['Return'].resample('ME').std()\n"
   ]
  },
  {
   "cell_type": "markdown",
   "id": "ea7c5dc4",
   "metadata": {},
   "source": [
    "Chúng ta sẽ vẽ biểu đồ thể hiện sự biến động"
   ]
  },
  {
   "cell_type": "code",
   "execution_count": 36,
   "id": "e2250a7e",
   "metadata": {},
   "outputs": [
    {
     "data": {
      "image/png": "[encoded data removed]",
      "text/plain": [
       "<Figure size 1200x500 with 1 Axes>"
      ]
     },
     "metadata": {},
     "output_type": "display_data"
    }
   ],
   "source": [
    "plt.figure(figsize=(12, 5))\n",
    "monthly_volatility.plot(kind='bar', color='steelblue')\n",
    "plt.title(\"Độ biến động theo tháng của ADBE\")\n",
    "plt.xlabel(\"Tháng\")\n",
    "plt.ylabel(\"Volatility (std)\")\n",
    "plt.grid(axis='y')\n",
    "plt.tight_layout()\n",
    "plt.show()"
   ]
  },
  {
   "cell_type": "markdown",
   "id": "264b25c0",
   "metadata": {},
   "source": [
    "### **1.3.**  Phân tích tương quan giữa giá đóng cửa và các chỉ số SMA, RSI.\n",
    "\n",
    "\n",
    "Chúng ta sẽ tính hệ số tương quan giữa giá đóng cửa và các chỉ báo kỹ thuật như SMA, EMA và RSI.  \n",
    "Việc này giúp kiểm tra mức độ phụ thuộc giữa các chỉ báo và biến động giá.\n",
    "\n"
   ]
  },
  {
   "cell_type": "code",
   "execution_count": 37,
   "id": "a5a10f84",
   "metadata": {},
   "outputs": [],
   "source": [
    "correlation_data = data[['Close', 'SMA_20', 'EMA_20', 'RSI']]\n",
    "corr_matrix = correlation_data.corr()"
   ]
  },
  {
   "cell_type": "markdown",
   "id": "57ee0d98",
   "metadata": {},
   "source": [
    "Chúng ta sẽ thể hiện ma trận tương quan bằng `heatmap` :"
   ]
  },
  {
   "cell_type": "code",
   "execution_count": 38,
   "id": "96f36588",
   "metadata": {},
   "outputs": [
    {
     "data": {
      "image/png": "[encoded data removed]",
      "text/plain": [
       "<Figure size 800x600 with 2 Axes>"
      ]
     },
     "metadata": {},
     "output_type": "display_data"
    }
   ],
   "source": [
    "plt.figure(figsize=(8, 6))\n",
    "sns.heatmap(corr_matrix, annot=True, cmap='coolwarm', fmt=\".2f\")\n",
    "plt.title(\"Ma trận tương quan giữa giá và các chỉ báo\")\n",
    "plt.show()"
   ]
  },
  {
   "cell_type": "markdown",
   "id": "2805ca9d",
   "metadata": {},
   "source": [
    "-Ma trận tương quan giữa giá đóng cửa và các chỉ số kỹ thuật phản ánh mối liên hệ tuyến tính giữa các biến. Một số nhận xét quan trọng:\n",
    "\n",
    "- **Giá đóng cửa và các đường trung bình động (SMA_20, EMA_20)**:\n",
    "  - Với SMA_20: hệ số tương quan ≈ 0.93\n",
    "  - Với EMA_20: hệ số tương quan ≈ 0.95\n",
    "  → Điều này là hợp lý vì các đường trung bình động được tính trực tiếp từ giá và phản ánh xu hướng giá trong ngắn hạn.\n",
    "\n",
    "- **EMA và SMA cũng có tương quan gần như tuyệt đối (≈ 1.00)** do đều dùng cùng chu kỳ 20 ngày và giá biến động ổn định.\n",
    "\n",
    "- **RSI có tương quan yếu hoặc gần như không có với giá đóng cửa và các đường trung bình**:\n",
    "  - Với Close: 0.27\n",
    "  - Với SMA_20: -0.07\n",
    "  - Với EMA_20: 0.00\n",
    "\n",
    "→ Điều này phản ánh đúng bản chất của **RSI là một chỉ báo dao động (oscillator)**, không đi theo xu hướng tuyến tính của giá, mà dùng để xác định vùng **quá mua/quá bán**.\n"
   ]
  },
  {
   "cell_type": "markdown",
   "id": "3cb4c5b6",
   "metadata": {},
   "source": [
    "## **V.** Trực quan hóa dữ liệu:"
   ]
  },
  {
   "cell_type": "markdown",
   "id": "374a3346",
   "metadata": {},
   "source": [
    "### **1.1**  Biểu đồ giá đóng cửa kèm SMA, EMA:"
   ]
  },
  {
   "cell_type": "code",
   "execution_count": 43,
   "id": "04f44a97",
   "metadata": {},
   "outputs": [
    {
     "data": {
      "image/png": "[encoded data removed]",
      "text/plain": [
       "<Figure size 1400x600 with 1 Axes>"
      ]
     },
     "metadata": {},
     "output_type": "display_data"
    }
   ],
   "source": [
    "plt.figure(figsize=(14, 6))\n",
    "\n",
    "plt.plot(data['Close'], label='Giá đóng cửa', color='teal', linewidth=1.5)\n",
    "\n",
    "plt.plot(data['SMA_20'], label='SMA 20 ngày', color='blue', linestyle='--')\n",
    "plt.plot(data['EMA_20'], label='EMA 20 ngày', color='orange', linestyle='-')\n",
    "\n",
    "plt.title('Giá đóng cửa của ADBE với SMA và EMA (20 ngày)')\n",
    "plt.xlabel('Ngày')\n",
    "plt.ylabel('Giá ($)')\n",
    "plt.legend()\n",
    "plt.grid(True)\n",
    "plt.tight_layout()\n",
    "plt.show()\n"
   ]
  },
  {
   "cell_type": "markdown",
   "id": "3c1c8bbd",
   "metadata": {},
   "source": [
    "### 1.5.2  Biểu đồ histogram của lợi suất:"
   ]
  },
  {
   "cell_type": "code",
   "execution_count": 40,
   "id": "1487d5a6",
   "metadata": {},
   "outputs": [
    {
     "data": {
      "image/png": "[encoded data removed]",
      "text/plain": [
       "<Figure size 1200x600 with 1 Axes>"
      ]
     },
     "metadata": {},
     "output_type": "display_data"
    }
   ],
   "source": [
    "plt.figure(figsize=(12, 6))\n",
    "plt.hist(data['Return'].dropna(), bins=50, color=(0.1, 0.2, 0.5, 0.5), edgecolor='black')\n",
    "plt.title(\"Phân phối lợi suất hằng ngày của ADBE\")\n",
    "plt.xlabel(\"Lợi suất\")\n",
    "plt.ylabel(\"Tần suất\")\n",
    "plt.grid(True)\n",
    "plt.show()\n"
   ]
  },
  {
   "cell_type": "markdown",
   "id": "af36876a",
   "metadata": {},
   "source": [
    "### 1.5.3 Heatmap ma trận tương quan giữa các biến:"
   ]
  },
  {
   "cell_type": "code",
   "execution_count": 44,
   "id": "e14e1510",
   "metadata": {},
   "outputs": [
    {
     "data": {
      "image/png": "[encoded data removed]",
      "text/plain": [
       "<Figure size 800x600 with 2 Axes>"
      ]
     },
     "metadata": {},
     "output_type": "display_data"
    }
   ],
   "source": [
    "correlation_data = data[['Close', 'SMA_20', 'EMA_20', 'RSI']]\n",
    "corr_matrix = correlation_data.corr()\n",
    "\n",
    "plt.figure(figsize=(8, 6))\n",
    "sns.heatmap(corr_matrix, annot=True, cmap='coolwarm', fmt=\".2f\")\n",
    "plt.title(\"Ma trận tương quan giữa giá và các chỉ báo\")\n",
    "plt.show()"
   ]
  },
  {
   "cell_type": "markdown",
   "id": "83e9c09b",
   "metadata": {},
   "source": [
    "## **VI.** Dự báo xu hướng giá cổ phiếu bằng Machine Learning (bonus)\n",
    "\n",
    "Trong phần này, chúng ta sẽ thử xây dựng một mô hình học máy đơn giản để dự đoán **xu hướng giá cổ phiếu ADBE** – cụ thể là xem **ngày mai giá có tăng không**.\n",
    "\n",
    "Việc dự đoán xu hướng ngắn hạn giúp nhà đầu tư hoặc hệ thống giao dịch tự động đưa ra quyết định dựa trên dữ liệu lịch sử và chỉ báo kỹ thuật.\n",
    "\n",
    "Chúng ta sẽ sử dụng:\n",
    "- Dữ liệu kỹ thuật: SMA, EMA, RSI\n",
    "- Mô hình cơ bản: **Logistic Regression** – mô hình phân loại nhị phân\n"
   ]
  },
  {
   "cell_type": "markdown",
   "id": "16fbd88d",
   "metadata": {},
   "source": [
    "### **1.0** *Tổng quan ngắn về Machine Learning*\n",
    "\n",
    "**Machine Learning (ML)** là lĩnh vực nghiên cứu các thuật toán giúp máy tính học từ dữ liệu để đưa ra dự đoán hoặc quyết định mà không cần lập trình rõ ràng.\n",
    "\n",
    "Trong bài toán này, ta sử dụng:\n",
    "- **Supervised Learning (học có giám sát)**: Có dữ liệu đầu vào và nhãn mục tiêu.\n",
    "- **Classification (phân loại)**: Dự đoán nhãn rời rạc (Tăng hoặc Không tăng).\n",
    "- **Mô hình Logistic Regression**: Một mô hình phân loại tuyến tính đơn giản nhưng hiệu quả cho các bài toán nhị phân.\n",
    "\n",
    "\n",
    "### **1.1** *Khởi tạo hoạt động*"
   ]
  },
  {
   "cell_type": "markdown",
   "id": "4d2a4c3a",
   "metadata": {},
   "source": [
    "Chúng ta tạo biến `Target` với giá trị:\n",
    "- 1 nếu giá ngày hôm sau tăng\n",
    "- 0 nếu không tăng\n",
    "\n",
    "Mục tiêu là dùng mô hình để dự đoán biến `Target` dựa trên các chỉ báo kỹ thuật hiện tại."
   ]
  },
  {
   "cell_type": "code",
   "execution_count": 45,
   "id": "525e3823",
   "metadata": {},
   "outputs": [],
   "source": [
    "data['Target'] = (data['Close'].shift(-1) > data['Close']).astype(int)"
   ]
  },
  {
   "cell_type": "markdown",
   "id": "52acb458",
   "metadata": {},
   "source": [
    "***Chọn đặc trưng (features) và loại bỏ NaN***"
   ]
  },
  {
   "cell_type": "code",
   "execution_count": 46,
   "id": "2ca84ed7",
   "metadata": {},
   "outputs": [],
   "source": [
    "features = ['SMA_20', 'EMA_20', 'RSI']\n",
    "X = data[features]\n",
    "y = data['Target']\n",
    "\n",
    "X = X.dropna()\n",
    "y = y.loc[X.index]\n"
   ]
  },
  {
   "cell_type": "markdown",
   "id": "b4ad31a8",
   "metadata": {},
   "source": [
    "***Tách dữ liệu huấn luyện và kiểm tra***\n",
    "\n",
    "Vì đây là dữ liệu chuỗi thời gian, ta **không shuffle** dữ liệu. Thay vào đó, chia 80% cho huấn luyện và 20% cho kiểm tra theo thứ tự thời gian.\n"
   ]
  },
  {
   "cell_type": "code",
   "execution_count": 47,
   "id": "38763830",
   "metadata": {},
   "outputs": [],
   "source": [
    "from sklearn.model_selection import train_test_split\n",
    "\n",
    "X_train, X_test, y_train, y_test = train_test_split(\n",
    "    X, y, test_size=0.2, shuffle=False\n",
    ")\n"
   ]
  },
  {
   "cell_type": "markdown",
   "id": "76180732",
   "metadata": {},
   "source": [
    "### **1.2.**  *Huấn luyện mô hình Logistic Regression*\n",
    "\n",
    "#### Lý thuyết cơ bản:\n",
    "\n",
    "**Logistic Regression** là một mô hình học máy thuộc nhóm phân loại nhị phân (binary classification).  \n",
    "Mặc dù tên là \"Regression\", nó không dùng để dự đoán số liên tục mà dự đoán **xác suất một mẫu thuộc về một trong hai lớp**.\n",
    "\n",
    "Công thức mô hình:\n",
    "\n",
    "$$\n",
    "P(y = 1 \\mid \\mathbf{x}) = \\frac{1}{1 + e^{-(\\beta_0 + \\beta_1x_1 + \\beta_2x_2 + \\dots + \\beta_nx_n)}}\n",
    "$$\n",
    "\n",
    "Trong đó:\n",
    "\n",
    "- $ \\mathbf{x} $: vector đặc trưng (ví dụ: SMA, EMA, RSI, ...)\n",
    "- $\\beta$ các hệ số (trọng số) được học từ dữ liệu huấn luyện\n",
    "- Mô hình trả về xác suất. Nếu $ P > 0.5$, ta gán nhãn là 1 (giá **tăng**), ngược lại là 0 (giá **giảm hoặc không tăng**)\n",
    "\n",
    "###  Ưu điểm:\n",
    "- Đơn giản, dễ cài đặt, dễ diễn giải\n",
    "- Tránh overfitting tốt hơn nhiều mô hình phức tạp\n",
    "- Hiệu quả với dữ liệu nhỏ\n"
   ]
  },
  {
   "cell_type": "code",
   "execution_count": 48,
   "id": "5f297b29",
   "metadata": {},
   "outputs": [
    {
     "name": "stdout",
     "output_type": "stream",
     "text": [
      " Độ chính xác của mô hình: 0.5274725274725275\n",
      "\n",
      " Báo cáo phân loại:\n",
      "               precision    recall  f1-score   support\n",
      "\n",
      "           0       0.00      0.00      0.00        43\n",
      "           1       0.53      1.00      0.69        48\n",
      "\n",
      "    accuracy                           0.53        91\n",
      "   macro avg       0.26      0.50      0.35        91\n",
      "weighted avg       0.28      0.53      0.36        91\n",
      "\n"
     ]
    }
   ],
   "source": [
    "from sklearn.linear_model import LogisticRegression\n",
    "from sklearn.metrics import accuracy_score, classification_report\n",
    "\n",
    "# Khởi tạo và huấn luyện mô hình\n",
    "model = LogisticRegression()\n",
    "model.fit(X_train, y_train)\n",
    "\n",
    "\n",
    "y_pred = model.predict(X_test)\n",
    "\n",
    "print(\" Độ chính xác của mô hình:\", accuracy_score(y_test, y_pred))\n",
    "print(\"\\n Báo cáo phân loại:\\n\", classification_report(y_test, y_pred, zero_division=0))\n"
   ]
  },
  {
   "cell_type": "markdown",
   "id": "2cc3b8b4",
   "metadata": {},
   "source": [
    "#### Giải thích kết quả\n",
    "\n",
    "- **Accuracy (Độ chính xác)**: phần trăm số mẫu mà mô hình dự đoán đúng.\n",
    "- **Precision (Độ chính xác cho từng lớp)**: trong số các lần mô hình dự đoán \"tăng\", có bao nhiêu là đúng.\n",
    "- **Recall (Khả năng bao phủ)**: trong số các ngày giá thực sự tăng, mô hình nhận ra được bao nhiêu.\n",
    "- **F1-score**: Trung bình hài hòa giữa Precision và Recall.\n",
    "\n",
    "Nếu độ chính xác cao hơn mức ngẫu nhiên (50%) và các chỉ số F1-score ổn, thì mô hình đang học được một phần xu hướng từ dữ liệu.\n",
    "\n",
    "\n",
    "\n",
    "**Bây h chúng ta sẽ tính và vẽ Ma trận nhầm lẫn**\n"
   ]
  },
  {
   "cell_type": "code",
   "execution_count": 49,
   "id": "3d5c0e29",
   "metadata": {},
   "outputs": [
    {
     "data": {
      "image/png": "[encoded data removed]",
      "text/plain": [
       "<Figure size 640x480 with 2 Axes>"
      ]
     },
     "metadata": {},
     "output_type": "display_data"
    }
   ],
   "source": [
    "from sklearn.metrics import confusion_matrix, ConfusionMatrixDisplay\n",
    "import matplotlib.pyplot as plt\n",
    "\n",
    "cm = confusion_matrix(y_test, y_pred)\n",
    "disp = ConfusionMatrixDisplay(confusion_matrix=cm)\n",
    "disp.plot()\n",
    "plt.title(\"Ma trận nhầm lẫn dự đoán tăng/giảm ADBE\")\n",
    "plt.grid(False)\n",
    "plt.show()\n"
   ]
  },
  {
   "cell_type": "markdown",
   "id": "1df28c5a",
   "metadata": {},
   "source": [
    "####  **Phân tích ma trận nhầm lẫn**\n",
    "\n",
    "\n",
    "| **Vị trí**    | **Giá trị** | **Ý nghĩa**                                                                 |\n",
    "|---------------|-------------|------------------------------------------------------------------------------|\n",
    "| (0, 0)        | 0           | ✅ **True Negative (TN)**: Dự đoán là \"không tăng\" và thực tế đúng là không tăng. |\n",
    "| (0, 1)        | 43          | ❌ **False Positive (FP)**: Dự đoán là \"tăng\", nhưng thực tế không tăng.         |\n",
    "| (1, 0)        | 0           | ❌ **False Negative (FN)**: Dự đoán là \"không tăng\", nhưng thực tế lại tăng.     |\n",
    "| (1, 1)        | 48          | ✅ **True Positive (TP)**: Dự đoán là \"tăng\" và thực tế đúng là tăng.             |\n",
    "\n",
    "---\n",
    "\n",
    "***Nhận xét***:\n",
    "\n",
    "- Mô hình luôn dự đoán giá **tăng (label = 1)** → bỏ qua hoàn toàn lớp \"không tăng\".\n",
    "- **Không có TN hoặc FN**, điều này cho thấy mô hình không học được khi nào cổ phiếu sẽ **không tăng**.\n",
    "- Tuy có **48 lần dự đoán đúng khi tăng**, nhưng lại có **43 lần sai khi cổ phiếu không tăng**.\n",
    "\n",
    "---\n",
    "\n",
    "***Hệ quả:***\n",
    "\n",
    "- Độ chính xác có thể cao do thiên lệch dữ liệu, nhưng mô hình **không phân biệt được hai xu hướng**.\n",
    "- Thiếu khả năng nhận diện xu hướng giảm hoặc đi ngang → **nguy hiểm trong chiến lược đầu tư thực tế**.\n",
    "\n",
    "---\n"
   ]
  },
  {
   "cell_type": "markdown",
   "id": "76673c60",
   "metadata": {},
   "source": [
    "## **VII.** Diễn giải và rút ra kết luận:"
   ]
  },
  {
   "cell_type": "markdown",
   "id": "4b3a6001",
   "metadata": {},
   "source": [
    "Theo như phân tích và trực quan hóa, dễ dàng nhận thấy được: Các cổ phiếu có độ tương quan lớn với nhau (mọi chỉ số tương quan lợi suất ngày đều nằm trong khoảng từ 0,5 đến 1), chứng tỏ mức độ phụ thuộc lớn vào xu hướng thị trường và các biến động xã hội. "
   ]
  },
  {
   "cell_type": "markdown",
   "id": "27fa3509",
   "metadata": {},
   "source": [
    "###  1. Xu hướng chính của cổ phiếu ADBE\n",
    "\n",
    "Trong giai đoạn được phân tích gần đây (2023–2024), cổ phiếu **ADBE (Adobe Inc.)** cho thấy xu hướng **tăng trưởng ổn định trong dài hạn**, đặc biệt là sau khi thị trường công nghệ phục hồi hậu khủng hoảng lãi suất năm 2022.\n",
    "\n",
    "- Các đường **trung bình động SMA_20 và EMA_20** phản ánh rõ ràng xu hướng tăng giá khi EMA cắt lên trên SMA.\n",
    "- Trong các đợt điều chỉnh ngắn hạn, đường EMA cho phản ứng nhanh hơn SMA, giúp nhà đầu tư xác định các vùng mua vào tiềm năng.\n",
    "- Chỉ báo **RSI** dao động ổn định, với một số thời điểm cho tín hiệu quá mua (>70), cảnh báo điều chỉnh nhẹ có thể xảy ra.\n",
    "\n",
    "###  2. Biến động và lợi suất\n",
    "\n",
    "- Khi phân tích **lợi suất logarit hàng ngày**, ta nhận thấy mức lợi nhuận trung bình dương nhẹ, cho thấy cổ phiếu đang tăng với tốc độ ổn định.\n",
    "- Độ lệch chuẩn hàng tháng cho thấy một số **giai đoạn có biến động cao**, trùng với:\n",
    "  - Thời điểm Adobe công bố báo cáo tài chính.\n",
    "  - Các sự kiện công nghệ lớn như hội nghị Adobe MAX hoặc ra mắt sản phẩm mới.\n",
    "  - Tác động từ thị trường AI, khi Adobe tích cực tích hợp Firefly AI vào Photoshop, Illustrator.\n",
    "\n",
    "###  3. Đánh giá mô hình học máy\n",
    "\n",
    "- Sử dụng Logistic Regression đơn giản để dự đoán xu hướng tăng/giảm ngày tiếp theo:\n",
    "  - Mô hình đạt độ chính xác vừa phải (~52%) nhưng lại **thiên lệch hoàn toàn về lớp \"tăng giá\"**.\n",
    "  - Ma trận nhầm lẫn cho thấy mô hình **không hề dự đoán lớp \"không tăng\"**, điều này là dấu hiệu mất cân bằng dữ liệu đầu vào.\n",
    "  - Cần cải thiện bằng:\n",
    "    - Cân bằng dữ liệu (SMOTE, class_weight='balanced')\n",
    "    - Thêm nhiều đặc trưng kỹ thuật hơn (MACD, Volume, Bollinger Band,...)\n",
    "    - Thử mô hình mạnh hơn như RandomForest hoặc XGBoost.\n",
    "\n",
    "### 4. Đề xuất và khuyến nghị đầu tư cơ bản\n",
    "\n",
    "- **Ngắn hạn**: Nên cẩn trọng khi RSI tiến gần ngưỡng 70 và độ lệch chuẩn tăng → có khả năng điều chỉnh kỹ thuật.\n",
    "- **Trung hạn**: Có thể mua vào khi giá điều chỉnh về gần SMA_20/EMA_20 và RSI dưới 40.\n",
    "- **Dài hạn**: ADBE là cổ phiếu công nghệ có nền tảng tài chính mạnh, liên tục đổi mới (đặc biệt là mảng AI và sáng tạo số). Có thể giữ vị thế đầu tư dài hạn nếu khẩu vị rủi ro phù hợp.\n",
    "- Nhà đầu tư nên **kết hợp thêm yếu tố cơ bản (P/E, tăng trưởng EPS, dòng tiền)** bên cạnh phân tích kỹ thuật và học máy.\n",
    "\n",
    "---\n",
    "\n",
    "**Tổng kết**: Cổ phiếu ADBE có triển vọng tăng trưởng tích cực, đặc biệt trong bối cảnh ngành công nghệ sáng tạo số và AI phát triển nhanh. Tuy nhiên, để đưa ra quyết định đầu tư hiệu quả, cần theo dõi thêm các chỉ báo kỹ thuật, kết quả kinh doanh và tin tức thị trường. Việc kết hợp phân tích kỹ thuật, dữ liệu tài chính và mô hình học máy nâng cao sẽ hỗ trợ ra quyết định toàn diện hơn."
   ]
  }
 ],
 "metadata": {
  "kernelspec": {
   "display_name": "base",
   "language": "python",
   "name": "python3"
  },
  "language_info": {
   "codemirror_mode": {
    "name": "ipython",
    "version": 3
   },
   "file_extension": ".py",
   "mimetype": "text/x-python",
   "name": "python",
   "nbconvert_exporter": "python",
   "pygments_lexer": "ipython3",
   "version": "3.12.7"
  }
 },
 "nbformat": 4,
 "nbformat_minor": 5
}
